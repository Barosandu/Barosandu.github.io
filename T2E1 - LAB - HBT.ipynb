{
 "cells": [
  {
   "cell_type": "markdown",
   "id": "66104312",
   "metadata": {},
   "source": [
    "# T2E1: Hanbury Brown - Twiss Lab Instructions\n",
    "\n",
    "## Introduction\n",
    "In this lab we're going to perform the Hanbury Brown - Twiss (HBT) experiment with the quED set-up. We want to perform the measurements and also understand what they mean in terms of the calculations.\n",
    "\n",
    "We'll be following the quTools manual, which you can find online here: https://www.qutools.com/files/quED/quED-HBT/quED-HBT-manual.pdf\n"
   ]
  },
  {
   "cell_type": "markdown",
   "id": "e418d361",
   "metadata": {},
   "source": [
    "## Estimate coincidence count for uncorrelated sources\n",
    "\n",
    "If I said I have two sources of light that are totally independent, what would you estimate the coincidences to be? You have access to the following values:\n",
    "\n",
    "* The singles count of each source of light (read off the quCR)\n",
    "* The coincidence window (30 ns)\n",
    "* Integration time (set on quCR)\n",
    "\n",
    "Use the next cell to evaluate your estimate of coincidents."
   ]
  },
  {
   "cell_type": "code",
   "execution_count": 19,
   "id": "0591f4e8",
   "metadata": {},
   "outputs": [
    {
     "data": {
      "text/plain": [
       "'Coincidences: 1.000e+00 with singles 5.000e+04 and 5.000e+04 after 1.0 seconds'"
      ]
     },
     "execution_count": 19,
     "metadata": {},
     "output_type": "execute_result"
    }
   ],
   "source": [
    "import numpy as np\n",
    "\n",
    "S1 = 5E4 # units cps\n",
    "S2 = 5E4 # units cps\n",
    "cw = 30E-9 # set by qutools as 30 ns\n",
    "inttime = 1 # default to 1 second\n",
    "\n",
    "def accidentals(S1,S2,cw,inttime):\n",
    "    it = 1\n",
    "    \n",
    "    return it\n",
    "\n",
    "\n",
    "\n",
    "'Coincidences: {:.3e} with singles {:.3e} and {:.3e} after {:.1f} seconds'.format(it, S1, S2, inttime)"
   ]
  },
  {
   "cell_type": "markdown",
   "id": "a39d649b",
   "metadata": {},
   "source": [
    "## Questions to answer\n",
    "What is the expected g2 of a heralded single photon source?\n",
    "\n",
    "What g2 do you expect to see?\n",
    "\n",
    "How would you set-up the experiment with the tools you have?"
   ]
  },
  {
   "cell_type": "markdown",
   "id": "80a7cb8e",
   "metadata": {},
   "source": [
    "## HBT with 2-fold coincidence\n",
    "\n",
    "Recall that the HBT experiment has the follow schematic:\n",
    "\n",
    ":::{figure-md} HBT_lab\n",
    "<img src=\"FIGURES\\quED\\HBT_lab.png\" width=\"600\">\n",
    ":::\n",
    "\n",
    "We want to set that up with the quED. quTools provides the following cartoon:\n",
    "\n",
    ":::{figure-md} HBT_lab\n",
    "<img src=\"FIGURES\\quED\\HBT_lab_qutools.png\" width=\"600\">image from quTools of the HBT experiment with quED\n",
    ":::\n",
    "\n",
    "Set up the HBT experiment. Record your measurements for singles, 2 fold coindcidences, and 3 fold coincidences. Calculate g2.\n",
    "\n",
    "\n",
    "\n",
    "Repeat the measurement until you converge on a mean and variance for your g2.\n",
    "\n",
    "Repeat at different pump currents: 10 mA, 25 mA, 40 mA. How does g2 differ? Why do think that happens?\n",
    "\n",
    "What happens when you change your integration time from 0.1 seconds to 1 second to 20 seconds? Which one do you think provides the most accurate g2? Why?\n",
    "\n"
   ]
  },
  {
   "cell_type": "markdown",
   "id": "34fd04c3",
   "metadata": {},
   "source": [
    "## HBT for heralded source (3-fold coincidence)\n",
    "\n",
    "As you recall, we want to modify the HBT experiment to look at the HBT experiment with a *heralded* single photon source, as shown below. \n",
    "\n",
    ":::{figure-md} HBT_lab\n",
    "<img src=\"FIGURES\\quED\\HBT_heralded_lab.png\" width=\"600\">\n",
    ":::\n",
    "\n",
    "quTools provides a more detailed schematic of how this experiment will look with the quED.\n",
    ":::{figure-md} HBT_lab\n",
    "<img src=\"FIGURES\\quED\\HBT_heralded_lab_qutools.png\" width=\"600\">image from quTools of the HBT experiment with heralded source with quED\n",
    ":::\n"
   ]
  }
 ],
 "metadata": {
  "kernelspec": {
   "display_name": "Python 3 (ipykernel)",
   "language": "python",
   "name": "python3"
  },
  "language_info": {
   "codemirror_mode": {
    "name": "ipython",
    "version": 3
   },
   "file_extension": ".py",
   "mimetype": "text/x-python",
   "name": "python",
   "nbconvert_exporter": "python",
   "pygments_lexer": "ipython3",
   "version": "3.11.0"
  }
 },
 "nbformat": 4,
 "nbformat_minor": 5
}
