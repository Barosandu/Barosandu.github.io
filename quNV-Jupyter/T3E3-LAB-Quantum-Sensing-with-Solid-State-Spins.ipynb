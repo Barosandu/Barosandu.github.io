{
 "cells": [
  {
   "cell_type": "markdown",
   "id": "0b092ec9",
   "metadata": {},
   "source": [
    "# LAB - Quantum Sensing with Solid State Spins\n",
    "\n",
    "In this lab, you will explore using RF electronics to probe the microwave cavities and coupling the cavities to NV centers in diamond to enable quantum magnetometry.\n",
    "\n",
    "Specific aims are:\n",
    "\n",
    "    1. Understand the optical setup\n",
    "    2. Characterize the microwave cavities and the Helmholtz coil\n",
    "    3. Simulate strong coupling between NV centers and the microwave resonator\n",
    "    4. Achieve strong coupling between NV centers and the microwave resonator\n",
    "    5. Improving the anti-crossing contrast "
   ]
  },
  {
   "cell_type": "markdown",
   "id": "cca63335",
   "metadata": {},
   "source": [
    "## Aim 0: Understand the optical setup"
   ]
  },
  {
   "cell_type": "markdown",
   "id": "d8d00d23",
   "metadata": {},
   "source": [
    "### Prelab\n",
    "\n",
    "In this lab, you will be using a home-built optical setup containing the following main components:\n",
    "\n",
    "- a 3W 532nm free space laser (this is a class-4 laser requiring laser safety!)\n",
    "- a magnetic shield\n",
    "- microwave cylindrical resonators\n",
    "- a loop coupler\n",
    "- a Helmholtz coil\n",
    "- diamond samples (~3mm x 3mm x 0.5mm) containing NV centers\n",
    "- cavity mounts (PTFE disks)\n",
    "\n",
    "[INSERT PICTURE OF SETUP HERE and CAD file of the shield+cavity+diamond]\n",
    "\n",
    "Not shown in the picture of the setup are the electronics and the RF components needed to probe the microwave cavity. You will be tasked to put together the RF circuitry for running the experiment.\n"
   ]
  },
  {
   "cell_type": "markdown",
   "id": "894a45ba",
   "metadata": {},
   "source": [
    "## Aim 1: Characterize the microwave cavities and the Helmholtz coil"
   ]
  },
  {
   "cell_type": "markdown",
   "id": "0fbb9dd1",
   "metadata": {},
   "source": [
    "### Prelab\n",
    "\n",
    "In Aim 1, you will first be characterizing the microwave cavities by measuring their resonance frequencies and quality factors. Recall that a cavity $Q$ is defined to be the ratio of its resonance frequency to its decay rate (also known as the cavity _linewidth_).\n",
    "\n",
    "1. Calculate the $Q$ of a cavity with resonance frequency at 3 GHz and linewidth of 100 kHz.\n",
    "2. Typically the cavity linewidth is defined at the [full width at half maximum](https://en.wikipedia.org/wiki/Full_width_at_half_maximum). Insert a cell below and write a Python script plotting a resonance peak centered at 3 GHz with linewidth of 100 kHz. Make the x-axis frequency with a span of 1 MHz and the y-axis normalized cavity transmission. Note that the cavity lineshape is usually [Lorentzian](https://mathworld.wolfram.com/LorentzianFunction.html).\n",
    "\n",
    "The second part of this session will ask you to characterize the [Helmholtz coil](https://en.wikipedia.org/wiki/Helmholtz_coil) by measuring its generated magnetic field. Recall that due to the Zeeman effect, magnetic field is used to shift the energy (frequency) difference between the $m_s=0$ and $m_s=+1$ states of NV centers. Importantly, the correct amount of magnetic field must be applied to ensure the energy difference matches the microwave cavity's resonance frequency.\n",
    "\n",
    "3. The amount of frequency shift due to magnetic field strength $B$ is $\\delta f = \\mu B$, where $\\mu = \\mu_B g/h$. $\\mu_B$ is the [Bohr magneton](https://en.wikipedia.org/wiki/Bohr_magneton), $g\\approx 2$ is the Lande factor, and $h$ is the Planck constant. Calculate $\\mu$ in units of MHz/Gauss. Note the SI unit for magnetic field is Tesla, where 1 Tesla = $10^4$ Gauss.\n",
    "4. Calculate the needed magnetic field strength (in Gauss) if the cavity resonance frequency is at 3 GHz. Recall the starting point (due to crystal field splitting) of the energy difference between $m_s=0$ and $m_s=+1$ is 2.87 GHz."
   ]
  },
  {
   "cell_type": "markdown",
   "id": "04ca6d01",
   "metadata": {},
   "source": [
    "### Lab Exercise\n",
    "\n",
    "### <u>For the following steps, please take extra care when handling the microwave cavities and the loop coupler!</u>\n",
    "\n",
    "#### i) Estimate the cavity's resonance frequency\n",
    "\n",
    "There are two microwave resonators provided to you. Both of them should have identical geometries, except with slightly different surface qualities. Take one of them and measure its outer radius and length. Use the measured geometry parameters and estimate the cavity's resonance frequency.\n",
    "\n",
    "Can you measure the resonance frequency via the VNA, whose bandwidth covers 100 kHz to 6 GHz?\n",
    "\n",
    "What would be the expected resonance frequency if you stack the two resonators on top of another, with their central holes as aligned as possible?\n",
    "\n",
    "Can you measure the combined stack's resonance frequency via the VNA?\n",
    "\n",
    "#### ii) Build the RF circuitry for probing the cavity's resonance frequency\n",
    "\n",
    "The VNA has a send port (Port 1) and a receive port (Port 2). Port 1 sends out a microwave tone by an internal signal generator, and port 2 measures the transmitted/reflected signal to compute the S-parameters. Use the provided [circulator](https://en.wikipedia.org/wiki/Circulator) and note the numbers written on its, connect its ports to the VNA and the loop coupler appropriately such that the loop coupler can be used to probe the cavity's signal. Check with the TA after you are done.\n",
    "\n",
    "#### iii) Measure the microwave resonator's frequency\n",
    "\n",
    "Now with the loop coupler properly connected to the VNA via the circulator, first put on gloves and grab the pair of tweezers. Carefully place the resonator stack inside the magnetic shield on the cavity mount, as shown in the figure below.\n",
    "\n",
    "[FIGURE SHOWING MICROWAVE CAVITY STACK INSIDE THE MAGNETIC SHIELD]\n",
    "\n",
    "Mount the loop coupler such that it is directly above the resonator. You should use the [right-angle clamp](https://www.thorlabs.com/thorproduct.cfm?partnumber=RA90) to adjust the loop coupler position, as shown in the figure below.\n",
    "\n",
    "Open the libreVNA GUI and connect to the device. Make sure you are monitoring the \"S21\" window. Change the center frequency to what you estimated above for the stacked resonator. Change the span to 20 MHz. By adjusting the position of the loop coupler relative to the resonator, you should be able to observe the cavity resonance dip. Once you have done so, play around with the position of the loop coupler and observe how the cavity's observed loaded $Q$ and resonance frequency $\\omega_c$ change. Write down your observations and explanations to these changes as a function of position.\n"
   ]
  },
  {
   "cell_type": "markdown",
   "id": "dab63d01",
   "metadata": {},
   "source": [
    "#### iv) Characterize the Helmholtz coil\n",
    "\n",
    "[picture of alligator clips]\n",
    "\n",
    "The Helmholtz coil we will be using actually has two coils, each with two electrical leads. Connect the red and black alligator clips to the leads in both coils. Note that red typically indicates the positive end, and black indicates the negative end. There is a correct way of making the connection. Otherwise, you may not be able to generate much magnetic field. Check with the TA if you are unsure.\n",
    "\n",
    "After you are done, grab the alligator clips' BNC cable ends and connect them to a [BNC-Tee connector](https://www.digikey.com/en/products/detail/molex/0731485003/1465138?utm_adgroup=Connectors%2C%20Interconnects&utm_source=google&utm_medium=cpc&utm_campaign=Shopping_Supplier_Molex_0900_Co-op&utm_term=&utm_content=Connectors%2C%20Interconnects&gclid=CjwKCAiAxP2eBhBiEiwA5puhNbxEHfe9gE0oFxSoYIL6urG-hMIu8VkCRfdGRDRMaGn1JRQUZ3Z4ABoCab4QAvD_BwE). Then, attach the BNC-[banana connector](https://en.wikipedia.org/wiki/Banana_connector) adapter to the BNC-Tee connector, and insert the adapter into Channel 1 of the R&S power supply (HMP4040).\n",
    "\n",
    "[BNC T + adapter for power supply, power supply]\n",
    "\n",
    "Next, turn on the Gauss meter.\n",
    "\n",
    "[picture of a gauss meter]\n",
    "\n",
    "What is the intrinsic reading displayed on the Gauss meter? Why is it non-zero?\n",
    "\n",
    "Set Channel 1's voltage to 1 V, and click on \"Output\" on the top right of the front panel of the power supply. Put the Gauss meter's probe in between the loops and note down the measured magnetic field.\n",
    "\n",
    "Estimate the number of loops per coil. You may find this [Helmholtz coil calculator](https://www.notblackmagic.com/bitsnpieces/helmholtz-coil/) useful.\n",
    "\n",
    "Increase the voltage in increments of 1 V all the way to 20 V, and write down the measured magnetic field for each voltage setting. ***Please do not set the voltage beyond 20 V without consulting the TA***\n",
    "\n",
    "Generate below a plot of magnetic field in Gauss (y-axis) vs Channel 1's voltage (x-axis).\n"
   ]
  },
  {
   "cell_type": "markdown",
   "id": "1cfcbe89",
   "metadata": {},
   "source": [
    "## Aim 2: Simulate strong coupling between NV centers and the microwave resonator"
   ]
  },
  {
   "cell_type": "markdown",
   "id": "26bf11ce",
   "metadata": {},
   "source": [
    "### Prelab\n",
    "\n"
   ]
  },
  {
   "cell_type": "markdown",
   "id": "4bb2f6cf",
   "metadata": {},
   "source": [
    "## Aim 3: Achieve strong coupling between NV centers and the microwave resonator"
   ]
  },
  {
   "cell_type": "markdown",
   "id": "69265e69",
   "metadata": {},
   "source": [
    "### Prelab\n"
   ]
  },
  {
   "cell_type": "markdown",
   "id": "968038bb",
   "metadata": {},
   "source": [
    "## Aim 4 (bonus): Improving the anti-crossing contrast"
   ]
  },
  {
   "cell_type": "markdown",
   "id": "b28760fd",
   "metadata": {},
   "source": [
    "### Prelab\n"
   ]
  }
 ],
 "metadata": {
  "kernelspec": {
   "display_name": "Python 3 (ipykernel)",
   "language": "python",
   "name": "python3"
  },
  "language_info": {
   "codemirror_mode": {
    "name": "ipython",
    "version": 3
   },
   "file_extension": ".py",
   "mimetype": "text/x-python",
   "name": "python",
   "nbconvert_exporter": "python",
   "pygments_lexer": "ipython3",
   "version": "3.7.4"
  }
 },
 "nbformat": 4,
 "nbformat_minor": 5
}
