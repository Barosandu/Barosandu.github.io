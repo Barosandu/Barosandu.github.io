{
 "cells": [
  {
   "cell_type": "markdown",
   "id": "d00bed62-cb2f-4b95-805e-61203dff9cb8",
   "metadata": {},
   "source": [
    "# Latex Headers\n",
    "\n",
    "$$\\newcommand{\\ket}[1]{\\left|{#1}\\right\\rangle}$$\n",
    "$$\\newcommand{\\bra}[1]{\\left\\langle{#1}\\right|}$$\n",
    "$$\\newcommand{\\braket}[2]{\\left\\langle{#1}\\middle|{#2}\\right\\rangle}$$\n",
    "$$\\newcommand{\\adagger}[0]{\\hat{a}^{\\dagger}}$$\n",
    "$$\\newcommand{\\ahat}[0]{\\hat{a}}$$"
   ]
  },
  {
   "cell_type": "markdown",
   "id": "6ed56e87-9b66-4ca5-8295-fc5ca3e94e3b",
   "metadata": {
    "incorrectly_encoded_metadata": "tags=[\"remove-cell\"] jp-MarkdownHeadingCollapsed=true jp-MarkdownHeadingCollapsed=true tags=[] jp-MarkdownHeadingCollapsed=true",
    "tags": []
   },
   "source": [
    "# Cell Width Adjust\n",
    "\n",
    " - Execute the code below to adjust the width of the cells when editing.  \n",
    " - These cells will not be published to the book and are for editing convenience."
   ]
  },
  {
   "cell_type": "code",
   "execution_count": 1,
   "id": "d066c0df-aa5c-47f7-997b-1ffce7287a16",
   "metadata": {
    "tags": [
     "remove-cell"
    ]
   },
   "outputs": [
    {
     "data": {
      "text/html": [
       "<style>.jp-CodeCell .jp-Cell-inputWrapper { width: 70% !important;  margin: 0 auto; }</style>"
      ],
      "text/plain": [
       "<IPython.core.display.HTML object>"
      ]
     },
     "metadata": {},
     "output_type": "display_data"
    },
    {
     "data": {
      "text/html": [
       "<style>.jp-MarkdownCell .jp-Cell-inputWrapper { width: 70% !important;  margin: 0 auto; }</style>"
      ],
      "text/plain": [
       "<IPython.core.display.HTML object>"
      ]
     },
     "metadata": {},
     "output_type": "display_data"
    },
    {
     "data": {
      "text/html": [
       "<style>.jp-Cell-outputWrapper { width: 70% !important;  margin: 0 auto; }</style>"
      ],
      "text/plain": [
       "<IPython.core.display.HTML object>"
      ]
     },
     "metadata": {},
     "output_type": "display_data"
    }
   ],
   "source": [
    "width = 70 #Width as a percentage of the screen\n",
    "\n",
    "from IPython.display import display, HTML\n",
    "display(HTML(\"<style>.jp-CodeCell .jp-Cell-inputWrapper { width: \"+str(width)+\"% !important;  margin: 0 auto; }</style>\"))\n",
    "display(HTML(\"<style>.jp-MarkdownCell .jp-Cell-inputWrapper { width: \"+str(width)+\"% !important;  margin: 0 auto; }</style>\"))\n",
    "display(HTML(\"<style>.jp-Cell-outputWrapper { width: \"+str(width)+\"% !important;  margin: 0 auto; }</style>\"))"
   ]
  },
  {
   "cell_type": "markdown",
   "id": "bcdff4e6-8251-4c63-9061-40ac42497a11",
   "metadata": {},
   "source": [
    "# Introduction\n",
    "\n",
    "This course is about how we can leverage quantum systems as engineers.  We will focus our attention on how to engineer quantum systems to securely transmit information, perform sensitive measurements, and compute among other things.  This will require us to develop a proficiency in understanding how quantum signals are generated, transmitted, and received.  It will also require us to understand the limitations of measurements, and how to account for noise.  \n",
    "\n",
    "While we will introduce several quantum engineering platforms in this course, a large number of concepts will be taught through the lens of quantum optics.  This chapter overviews basic concepts in quantum optics that will be drawn on throughout the course.  It should be used as both review and reference material.  "
   ]
  },
  {
   "cell_type": "markdown",
   "id": "9719167f-01df-490a-af61-f7e434583ba8",
   "metadata": {},
   "source": [
    "# Optical Modes\n",
    "\n",
    "Often we deal with optical signals whose fields oscillate at a single angular frequency $\\omega$.  At any given frequency, an optical signal can be written as a summation of modes.  These modes are distinguished by a variety of properties, such as their wave-vector $\\mathbf{k}$ or polarization (e.g. linear horizontal, linear vertical, right-hand circular, etc.).  \n",
    "\n",
    "In most cases, each input or output signal populates a single mode.  "
   ]
  },
  {
   "cell_type": "markdown",
   "id": "d235d45a-a4ad-45b8-b08a-8575756afba1",
   "metadata": {},
   "source": [
    "# The Vacuum State $\\ket{0}$\n",
    "\n",
    "The vacuum state represents the condition that no photon populates any mode.  This can be expanded as:\n",
    "\n",
    "$\\ket{0} = \\ket{0}_a\\ket{0}_b\\ldots\\ket{0}_m\\ket{0}_n\\ldots$,\n",
    "\n",
    "where, for example, $\\ket{0}_n$ represents zero photons for mode $n$.  "
   ]
  },
  {
   "cell_type": "markdown",
   "id": "932cd127-5cc7-46b1-8bae-9e14548363dc",
   "metadata": {},
   "source": [
    "# Photon Number States: $\\ket{N}$\n",
    "\n",
    "Number states are those that represent a mode populated with a precise number of photons.  Such states are ubiquitous in quantum engineering applications.     \n",
    "\n",
    "For instance, a single photon in mode $m$ can be written as:\n",
    "\n",
    "$\\ket{1}_m = \\ket{0}_a\\ket{0}_b\\ldots\\ket{0}_l\\ket{1}_m\\ket{0}_n\\ldots$.\n",
    "\n",
    "Likewise, for N-photons in mode $m$:\n",
    "\n",
    "$\\ket{N}_m = \\ket{0}_a\\ket{0}_b\\ldots\\ket{0}_l\\ket{N}_m\\ket{0}_n\\ldots$."
   ]
  },
  {
   "cell_type": "markdown",
   "id": "11166319-1c81-42b5-bc3b-373bcb1f0cb4",
   "metadata": {},
   "source": [
    "# The Creation Operator: $\\adagger$\n",
    "\n",
    "The creation operator acts to increase the photon number in a particular mode by 1. For instance:\n",
    "\n",
    "$\\adagger_m \\ket{0}_m = \\ket{1}_m$\n",
    "\n",
    "More generally:\n",
    "\n",
    "$\\adagger_m \\ket{N}_m = \\sqrt{N + 1}\\ket{N + 1}$"
   ]
  },
  {
   "cell_type": "markdown",
   "id": "9e421b1c-d08a-4a25-aec6-bc660a32746f",
   "metadata": {},
   "source": [
    "# The Annihilation Operator: $\\ahat$\n",
    "\n",
    "The annihilation operator acts to decrease the photon number in a particular mode by 1.  For instance:\n",
    "\n",
    "$\\ahat_m \\ket{1}_m = \\ket{0}_m$.\n",
    "\n",
    "More generally:\n",
    "\n",
    "$\\ahat_m \\ket{N}_m = \\sqrt{N}\\ket{N - 1}$.\n",
    "\n",
    "Note that:\n",
    "\n",
    "$\\ahat_m \\ket{0}_m = 0$"
   ]
  },
  {
   "cell_type": "markdown",
   "id": "b4a9614e-4348-405a-90ec-04fb7e59e460",
   "metadata": {},
   "source": [
    "# The Number Operator: $\\hat{N} = \\adagger\\ahat$\n",
    "\n",
    "As the name implies, the number operator relates to the number of photons contained within a mode.  It is related to the annihilation and creation operators:\n",
    "\n",
    "$\\hat{N}_m = \\adagger_m\\ahat_m$.  \n",
    "\n",
    "Often times we are interested in the time-averaged number of photons in a state.  For instance, consider the state $\\ket{\\psi_m}.  The time averaged number of photons in this state would then be:\n",
    "\n",
    "$\\bra{\\psi}_m\\hat{N}_m\\ket{\\psi}_m$.  \n",
    "\n",
    "Using the properties of $\\ahat$ and $\\adagger$, you can easily show that:\n",
    "\n",
    "$\\bra{N}_m \\hat{N}_m \\ket{N}_m = N$.  "
   ]
  },
  {
   "cell_type": "markdown",
   "id": "2a84a2c3-0717-4e03-bd96-bfdf5ffefbe9",
   "metadata": {},
   "source": [
    "# The Field Operators\n",
    "\n",
    "The annihilation and creation operators are also intrinsically related to the electric field of a state.  In fact, they arise as a result of quantizing the electric field.  \n",
    "\n",
    "```{note}\n",
    "For a {cite:p}`townsendModernApproachQuantum2000`\n",
    "```"
   ]
  },
  {
   "cell_type": "markdown",
   "id": "5414e030-fb8d-4be9-9539-f016cb10d2a9",
   "metadata": {},
   "source": [
    "# References\n",
    "\n",
    "```{bibliography}\n",
    ":style: unsrt\n",
    "``` "
   ]
  }
 ],
 "metadata": {
  "jupytext": {
   "formats": "ipynb,md:myst"
  },
  "kernelspec": {
   "display_name": "Python 3 (ipykernel)",
   "language": "python",
   "name": "python3"
  },
  "language_info": {
   "codemirror_mode": {
    "name": "ipython",
    "version": 3
   },
   "file_extension": ".py",
   "mimetype": "text/x-python",
   "name": "python",
   "nbconvert_exporter": "python",
   "pygments_lexer": "ipython3",
   "version": "3.8.12"
  },
  "widgets": {
   "application/vnd.jupyter.widget-state+json": {
    "state": {},
    "version_major": 2,
    "version_minor": 0
   }
  }
 },
 "nbformat": 4,
 "nbformat_minor": 5
}
