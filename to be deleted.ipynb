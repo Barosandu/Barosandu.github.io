{
 "cells": [
  {
   "cell_type": "markdown",
   "id": "1d6bd985",
   "metadata": {},
   "source": [
    "# Latex Headers\n",
    "\n",
    " - Ensure proper support for certain latex notation\n",
    " - Code below\n",
    "\n",
    "$$\\newcommand{\\ket}[1]{\\left|{#1}\\right\\rangle}$$\n",
    "$$\\newcommand{\\bra}[1]{\\left\\langle{#1}\\right|}$$\n",
    "$$\\newcommand{\\braket}[2]{\\left\\langle{#1}\\middle|{#2}\\right\\rangle}$$\n",
    "$$\\newcommand{\\adagger}[0]{\\hat{a}^{\\dagger}}$$\n",
    "$$\\newcommand{\\ahat}[0]{\\hat{a}}$$\n",
    "$$\\newcommand{\\bdagger}[0]{\\hat{b}^{\\dagger}}$$\n",
    "$$\\newcommand{\\bhat}[0]{\\hat{b}}$$\n",
    "$$\\newcommand{\\cdagger}[0]{\\hat{c}^{\\dagger}}$$\n",
    "$$\\newcommand{\\chat}[0]{\\hat{c}}$$\n",
    "$$\\newcommand{\\ddagger}[0]{\\hat{d}^{\\dagger}}$$\n",
    "$$\\newcommand{\\dhat}[0]{\\hat{d}}$$\n",
    "$$\\newcommand{\\edagger}[0]{\\hat{e}^{\\dagger}}$$\n",
    "$$\\newcommand{\\ehat}[0]{\\hat{e}}$$\n",
    "$$\\newcommand{\\fdagger}[0]{\\hat{f}^{\\dagger}}$$\n",
    "$$\\newcommand{\\fhat}[0]{\\hat{f}}$$\n",
    "$$\\newcommand{\\gtwo}[0]{g^{(2)}}$$"
   ]
  },
  {
   "cell_type": "markdown",
   "id": "fc35f5f4",
   "metadata": {},
   "source": []
  }
 ],
 "metadata": {
  "kernelspec": {
   "display_name": "Python 3 (ipykernel)",
   "language": "python",
   "name": "python3"
  },
  "language_info": {
   "codemirror_mode": {
    "name": "ipython",
    "version": 3
   },
   "file_extension": ".py",
   "mimetype": "text/x-python",
   "name": "python",
   "nbconvert_exporter": "python",
   "pygments_lexer": "ipython3",
   "version": "3.11.0"
  }
 },
 "nbformat": 4,
 "nbformat_minor": 5
}
