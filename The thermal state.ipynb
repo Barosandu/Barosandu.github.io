{
 "cells": [
  {
   "cell_type": "markdown",
   "id": "2812b103",
   "metadata": {},
   "source": [
    "## The thermal state\n",
    "\n",
    "Another state is the termals state, produced by radiation with random intensity and phase.\n",
    "\n",
    "The thermal state is a statistical mixture of number states without specific phase relations between the number states.\n",
    "\n",
    "The density operator in terms of the number state are given as\n",
    "\n",
    "$$\\hat{\\rho} = \\left[1 - exp\\left(-\\frac{\\hbar\\omega}{k_BT} \\right)\\right ]\\sum_n exp\\left( -\\frac{n\\hbar\\omega}{k_BT} \\right )|n\\rangle\\langle n|$$\n",
    "\n",
    "The mean photon number is given by\n",
    "\n",
    "$$\\langle n\\rangle = Tr \\{ \\hat{\\rho}\\hat{n} \\} $$\n",
    "\n",
    "And the probability of finding the mean photon number n is given by the distribution\n",
    "\n",
    "$$P(n) = \\frac{\\langle n \\rangle^n}{\\left (1 + \\langle n \\rangle \\right ) ^{1+n}}$$\n",
    "\n",
    "The photon number variance is given as\n",
    "\n",
    "$$ \\left ( \\Delta n\\right )^2 = \\langle n \\rangle ^2 + \\langle n \\rangle$$"
   ]
  }
 ],
 "metadata": {
  "kernelspec": {
   "display_name": "Python 3 (ipykernel)",
   "language": "python",
   "name": "python3"
  },
  "language_info": {
   "codemirror_mode": {
    "name": "ipython",
    "version": 3
   },
   "file_extension": ".py",
   "mimetype": "text/x-python",
   "name": "python",
   "nbconvert_exporter": "python",
   "pygments_lexer": "ipython3",
   "version": "3.11.0"
  }
 },
 "nbformat": 4,
 "nbformat_minor": 5
}
